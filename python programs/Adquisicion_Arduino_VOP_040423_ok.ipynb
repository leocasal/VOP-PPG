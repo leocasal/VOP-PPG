{
 "cells": [
  {
   "cell_type": "code",
   "execution_count": 7,
   "id": "a7d75e86",
   "metadata": {
    "colab": {
     "base_uri": "https://localhost:8080/",
     "height": 373
    },
    "executionInfo": {
     "elapsed": 11,
     "status": "error",
     "timestamp": 1677177113076,
     "user": {
      "displayName": "Leonardo Casal",
      "userId": "15965904283873205205"
     },
     "user_tz": 180
    },
    "id": "a7d75e86",
    "outputId": "b2ac7420-a065-4b38-b517-8c528f13085b"
   },
   "outputs": [],
   "source": [
    "#agregar led q indica qie esta saturando sensor y corregir luz led\n",
    "#agregar potenciometro a led para ajustar luz\n",
    "\n",
    "import serial\n",
    "import numpy as np\n",
    "import matplotlib.pyplot as plt\n",
    "import os.path\n",
    "import pickle # para leer los archivos comprimidos (.p)\n",
    "\n",
    "###parameters######################\n",
    "COM_ARDUINO_UNO = 'COM7'\n",
    "baudrate_arduino= 250000#115200 #250000 #\n",
    "SampleFreq=2000 #Hz\n",
    "tiempo_adq = 12 #seg\n",
    "nombreArchivo = './datos/prueba.p'# nombre del archivo donde guardar los datos\n",
    "nsensores =2 # 1 a 4\n",
    "arduino_serial_plotter_protocol_on = 0 # data sent using arduino serial protocol (ascii for each digit) or send raw bytes\n",
    "\n",
    "################################################\n",
    "\n",
    "cantidad_samples = SampleFreq*tiempo_adq   #1min 120 000\n",
    "\n",
    "def leer_sensor(arduino_puerto_serie,cantidad_samples):\n",
    "    samples_sensor0 = np.zeros((cantidad_samples))\n",
    "    #samples_sensor1 = np.zeros((cantidad_samples))\n",
    "    #samples_sensor2 = np.zeros((cantidad_samples))\n",
    "    if nsensores >= 2 :\n",
    "        samples_sensor1 = np.zeros((cantidad_samples))\n",
    "    if nsensores >= 3 :\n",
    "        samples_sensor2 = np.zeros((cantidad_samples))                         \n",
    "    if nsensores >= 4 :\n",
    "        samples_sensor3 = np.zeros((cantidad_samples)) \n",
    "    i = 0\n",
    "    arduino.reset_input_buffer()\n",
    "    for n_samples in range(0,cantidad_samples):\n",
    "        read_val = False\n",
    "        splitted = \"\"\n",
    "        while not read_val:\n",
    "            try:\n",
    "                if arduino_serial_plotter_protocol_on == 0:\n",
    "                    a = arduino.read(nsensores*3) #nbytes= 3bytes x sensor( 2bytes datos+1 de coma o de /n el ultimo)\n",
    "                    if len(a) == nsensores*3 :\n",
    "                        samples_sensor0[n_samples] = float(a[1] + 256*a[0])\n",
    "                        if nsensores >= 2 :\n",
    "                            samples_sensor1[n_samples] = float(a[4] + 256*a[3]) \n",
    "                        if nsensores >= 3 :\n",
    "                            samples_sensor2[n_samples] = float(a[7] + 256*a[6])                         \n",
    "                        if nsensores >= 4 :\n",
    "                            samples_sensor3[n_samples] = float(a[10] + 256*a[9])                         \n",
    "                        #samples_sensor1[n_samples] = float(a[4] + 256*a[3])\n",
    "                        #samples_sensor2[n_samples] = float(a[7] + 256*a[6])\n",
    "                        read_val = True\n",
    "                    else:\n",
    "                        print(\"SYNCHRONIZING COMMUNICATION: serial read didnt receive amount of bytes as expected. data discarded\")\n",
    "                    a = []\n",
    "                if arduino_serial_plotter_protocol_on == 1: #adquiero con formato arduino serial plotter\n",
    "                    line = arduino.readline()\n",
    "                    string_n = line.decode()  # decode byte string into Unicode  \n",
    "                    string = string_n.rstrip() # remove \\n and \\r\n",
    "                    string_splitted = string.split(\",\")\n",
    "                    samples_sensor0[n_samples] = float(string_splitted[0])\n",
    "                    samples_sensor1[n_samples] = float(string_splitted[1])\n",
    "                    read_val = True\n",
    "                #print(i)\n",
    "                #i+=1\n",
    "            except ValueError:\n",
    "                print(\"...\")\n",
    "                #print(\"Línea con error: {}\".format(line))\n",
    "# creo un diccionario para guardar mis datos\n",
    "    if nsensores == 1 :\n",
    "        samples = {'sensor0' : samples_sensor0} \n",
    "    if nsensores == 2 :\n",
    "        samples = {'sensor0' : samples_sensor0,'sensor1' : samples_sensor1} \n",
    "    if nsensores == 3 :\n",
    "        samples = {'sensor0' : samples_sensor0,'sensor1' : samples_sensor1, 'sensor2' : samples_sensor2} \n",
    "    if nsensores == 4 :\n",
    "        samples = {'sensor0' : samples_sensor0,'sensor1' : samples_sensor1, 'sensor2' : samples_sensor2, 'sensor3' : samples_sensor3} \n",
    "\n",
    "    return samples #samples_sensor0, samples_sensor1, samples_sensor2\n",
    "\n",
    "\n",
    "def guardar_datos(nombreArchivo, datos):\n",
    "    # comprueba si el archivo existe\n",
    "    if os.path.exists(nombreArchivo):\n",
    "        #try\n",
    "            print(\"El archivo %s ya existe. Renombrando...\" %nombreArchivo)\n",
    "            # chequear version\n",
    "            v = 0\n",
    "            path = os.path.split(nombreArchivo)[0]\n",
    "            raw = os.path.splitext(os.path.split(nombreArchivo)[1])[0]\n",
    "            ext = os.path.splitext(os.path.split(nombreArchivo)[1])[1]\n",
    "            new = raw + '_new'+ext\n",
    "\n",
    "            #if len(raw.split('_')) < 2:\n",
    "            #    v += 1\n",
    "            #    new = raw + '_'+str(v)+ext\n",
    "            #else:\n",
    "            #    v = int(raw.split('_')[1]) + 1\n",
    "            #    new = raw.split('_')[0]+'_'+str(v)+ext\n",
    "            nombreArchivo = os.path.join(path, new)\n",
    "        #except ValueError:\n",
    "        #    new = 'salvado_'+ext\n",
    "        #    nombreArchivo = os.path.join(path, new)\n",
    "    with open(nombreArchivo, 'wb') as f:\n",
    "        pickle.dump(datos, f)\n",
    "        print(\"Datos guardados en %s\" %nombreArchivo)\n",
    "        f.close()\n",
    "    return nombreArchivo"
   ]
  },
  {
   "cell_type": "code",
   "execution_count": 5,
   "id": "3828dcea",
   "metadata": {
    "id": "3828dcea"
   },
   "outputs": [
    {
     "name": "stdout",
     "output_type": "stream",
     "text": [
      "adquiriendo...\n",
      "...\n",
      "Datos guardados en ./datos/prueba.p\n"
     ]
    },
    {
     "data": {
      "image/png": "[encoded data removed]",
      "text/plain": [
       "<Figure size 640x480 with 1 Axes>"
      ]
     },
     "metadata": {},
     "output_type": "display_data"
    }
   ],
   "source": [
    "# Abrimos la conexión con Arduino, adquiero, y guardo\n",
    "# Hack cortesía de https://www.oreilly.com/library/view/python-cookbook/0596001673/ch17s02.html\n",
    "try: arduino\n",
    "except NameError:\n",
    "    arduino = serial.Serial(COM_ARDUINO_UNO, baudrate=baudrate_arduino, timeout=1.0)\n",
    "if not arduino.is_open: arduino.open()\n",
    "arduino.setDTR(False)\n",
    "arduino.flushInput()\n",
    "arduino.setDTR(True)\n",
    "print('adquiriendo...')\n",
    "samples = leer_sensor(arduino,cantidad_samples)\n",
    "arduino.close()\n",
    "\n",
    "samples_sensor0 = samples['sensor0']\n",
    "if nsensores >= 2 :\n",
    "    samples_sensor1 = samples['sensor1']\n",
    "if nsensores >= 3 :\n",
    "    samples_sensor2 = samples['sensor2']\n",
    "if nsensores >= 4 :\n",
    "    samples_sensor3 = samples['sensor3']\n",
    "nombreArchivo = guardar_datos(nombreArchivo, samples)\n",
    "\n",
    "# grafico de muestras completas\n",
    "time = np.arange(0,cantidad_samples/SampleFreq,1/SampleFreq)\n",
    "fig = plt.figure()\n",
    "plt.plot(time,samples_sensor0, 'b', label=\"Sensor A0\")\n",
    "if nsensores >= 2 :\n",
    "    plt.plot(time,samples_sensor1, 'r', label=\"Sensor A1\")\n",
    "if nsensores >= 3 :\n",
    "    plt.plot(time,samples_sensor2, 'k', label=\"Sensor A2\")\n",
    "if nsensores >= 4 :\n",
    "    plt.plot(time,samples_sensor3, 'g', label=\"Sensor A3\")\n",
    "\n",
    "plt.xlabel(\"Tiempo [ms]\")\n",
    "plt.ylabel(\"Señal (cuentas)\")\n",
    "plt.title(\"PULSOS ADQUIRIDOS\")\n",
    "plt.legend()\n",
    "#plt.xlim([1000,30000])\n",
    "plt.grid()\n",
    "plt.show()\n"
   ]
  },
  {
   "cell_type": "code",
   "execution_count": null,
   "id": "7722a83b",
   "metadata": {},
   "outputs": [],
   "source": []
  },
  {
   "cell_type": "code",
   "execution_count": null,
   "id": "62071034",
   "metadata": {},
   "outputs": [],
   "source": []
  },
  {
   "cell_type": "code",
   "execution_count": null,
   "id": "dc6a5bc5",
   "metadata": {},
   "outputs": [],
   "source": []
  }
 ],
 "metadata": {
  "colab": {
   "provenance": []
  },
  "kernelspec": {
   "display_name": "Python 3 (ipykernel)",
   "language": "python",
   "name": "python3"
  },
  "language_info": {
   "codemirror_mode": {
    "name": "ipython",
    "version": 3
   },
   "file_extension": ".py",
   "mimetype": "text/x-python",
   "name": "python",
   "nbconvert_exporter": "python",
   "pygments_lexer": "ipython3",
   "version": "3.9.13"
  }
 },
 "nbformat": 4,
 "nbformat_minor": 5
}
