{
 "cells": [
  {
   "cell_type": "code",
   "execution_count": 24,
   "id": "a7d75e86",
   "metadata": {
    "colab": {
     "base_uri": "https://localhost:8080/",
     "height": 373
    },
    "executionInfo": {
     "elapsed": 11,
     "status": "error",
     "timestamp": 1677177113076,
     "user": {
      "displayName": "Leonardo Casal",
      "userId": "15965904283873205205"
     },
     "user_tz": 180
    },
    "id": "a7d75e86",
    "outputId": "b2ac7420-a065-4b38-b517-8c528f13085b"
   },
   "outputs": [
    {
     "ename": "SyntaxError",
     "evalue": "invalid syntax (2088642438.py, line 58)",
     "output_type": "error",
     "traceback": [
      "\u001b[1;36m  File \u001b[1;32m\"C:\\Users\\Leonardo Casal\\AppData\\Local\\Temp\\ipykernel_8856\\2088642438.py\"\u001b[1;36m, line \u001b[1;32m58\u001b[0m\n\u001b[1;33m    line = []\u001b[0m\n\u001b[1;37m    ^\u001b[0m\n\u001b[1;31mSyntaxError\u001b[0m\u001b[1;31m:\u001b[0m invalid syntax\n"
     ]
    }
   ],
   "source": [
    "import serial\n",
    "import numpy as np\n",
    "import matplotlib.pyplot as plt\n",
    "import os.path\n",
    "import pickle # para leer los archivos comprimidos (.p)\n",
    "\n",
    "###parameters######################\n",
    "COM_ARDUINO_UNO = 'COM7'\n",
    "baudrate_arduino= 250000#115200 #250000 #\n",
    "SampleFreq=2000 #Hz\n",
    "tiempo_adq = 5 #seg\n",
    "nombreArchivo = './mediciones/de201023_ok_1.p'# nombre del archivo donde guardar los datos\n",
    "nsensores =2 # 1 a 4\n",
    "arduino_serial_plotter_protocol_on = 0 # data sent using arduino serial protocol (ascii for each digit) or send raw bytes\n",
    "\n",
    "################################################\n",
    "\n",
    "cantidad_samples = SampleFreq*tiempo_adq   #1min 120 000\n",
    "\n",
    "def leer_sensor(arduino_puerto_serie,cantidad_samples):\n",
    "    samples_sensor0 = np.zeros((cantidad_samples))\n",
    "    #samples_sensor1 = np.zeros((cantidad_samples))\n",
    "    #samples_sensor2 = np.zeros((cantidad_samples))\n",
    "    if nsensores >= 2 :\n",
    "        samples_sensor1 = np.zeros((cantidad_samples))\n",
    "    if nsensores >= 3 :\n",
    "        samples_sensor2 = np.zeros((cantidad_samples))                         \n",
    "    if nsensores >= 4 :\n",
    "        samples_sensor3 = np.zeros((cantidad_samples)) \n",
    "    i = 0\n",
    "    arduino.reset_input_buffer()\n",
    "    for n_samples in range(0,cantidad_samples):\n",
    "        read_val = False\n",
    "        splitted = \"\"\n",
    "        while not read_val:\n",
    "            try:\n",
    "                if arduino_serial_plotter_protocol_on == 0:\n",
    "                    line = arduino.read(nsensores*3) #nbytes= 3bytes x sensor( 2bytes datos+1 de coma o de /n el ultimo)\n",
    "                    if len(line) == nsensores*3 :\n",
    "                        samples_sensor0[n_samples] = float(line[1] + 256*line[0])\n",
    "                        if nsensores >= 2 :\n",
    "                            samples_sensor1[n_samples] = float(line[4] + 256*line[3]) \n",
    "                        if nsensores >= 3 :\n",
    "                            samples_sensor2[n_samples] = float(line[7] + 256*line[6])                         \n",
    "                        if nsensores >= 4 :\n",
    "                            samples_sensor3[n_samples] = float(line[10] + 256*line[9])                         \n",
    "                        #samples_sensor1[n_samples] = float(line[4] + 256*line[3])\n",
    "                        #samples_sensor2[n_samples] = float(line[7] + 256*line[6])\n",
    "                        read_val = True\n",
    "                    else:\n",
    "                        #print(line)\n",
    "                        #print(arduino.readable)\n",
    "                        #print(line[0])\n",
    "                        #print(line[1])\n",
    "                        #print(line[2])\n",
    "                        print(\"SYNCHRONIZING COMMUNICATION: {}seconds\", format(tiempo_adq)#it's ok for first data, serial read didnt receive amount of bytes as expected. data discarded\")\n",
    "                        #print(\"SYNCHRONIZING COMMUNICATION: serial read didnt receive amount of bytes as expected. data discarded\")\n",
    "                    line = []\n",
    "                if arduino_serial_plotter_protocol_on == 1: #adquiero con formato arduino serial plotter\n",
    "                    line = arduino.readline()\n",
    "                    string_n = line.decode()  # decode byte string into Unicode  \n",
    "                    string = string_n.rstrip() # remove \\n and \\r\n",
    "                    string_splitted = string.split(\",\")\n",
    "                    samples_sensor0[n_samples] = float(string_splitted[0])\n",
    "                    samples_sensor1[n_samples] = float(string_splitted[1])\n",
    "                    read_val = True\n",
    "                #print(i)\n",
    "                #i+=1\n",
    "            except ValueError:\n",
    "                print(\"...\")\n",
    "                print(\"Línea con error: {}\".format(line))\n",
    "# creo un diccionario para guardar mis datos\n",
    "    if nsensores == 1 :\n",
    "        samples = {'sensor0' : samples_sensor0} \n",
    "    if nsensores == 2 :\n",
    "        samples = {'sensor0' : samples_sensor0,'sensor1' : samples_sensor1} \n",
    "    if nsensores == 3 :\n",
    "        samples = {'sensor0' : samples_sensor0,'sensor1' : samples_sensor1, 'sensor2' : samples_sensor2} \n",
    "    if nsensores == 4 :\n",
    "        samples = {'sensor0' : samples_sensor0,'sensor1' : samples_sensor1, 'sensor2' : samples_sensor2, 'sensor3' : samples_sensor3} \n",
    "\n",
    "    return samples #samples_sensor0, samples_sensor1, samples_sensor2\n",
    "\n",
    "\n",
    "def guardar_datos(nombreArchivo, datos):\n",
    "    # comprueba si el archivo existe\n",
    "    if os.path.exists(nombreArchivo):\n",
    "        print(\"El archivo %s ya existe. Renombrando...\" %nombreArchivo)\n",
    "        path = os.path.split(nombreArchivo)[0]\n",
    "        raw = os.path.splitext(os.path.split(nombreArchivo)[1])[0] #nombre archivo sin extension\n",
    "        ext = os.path.splitext(os.path.split(nombreArchivo)[1])[1] #extension\n",
    "        nombreArchivo = os.path.join(path, raw+'_'+ext)\n",
    "        \"\"\"\n",
    "    while os.path.exists(nombreArchivo):\n",
    "        print(\"El archivo %s ya existe. Renombrando...\" %nombreArchivo)\n",
    "        path = os.path.split(nombreArchivo)[0]\n",
    "        raw = os.path.splitext(os.path.split(nombreArchivo)[1])[0] #nombre archivo sin extension\n",
    "        ext = os.path.splitext(os.path.split(nombreArchivo)[1])[1] #extension\n",
    "        if len(raw.split('_')) < 2: #el nombre de archivo no tiene _, le agrego_\n",
    "            new = raw + '_'+str(1)+ext\n",
    "            #print(\"1\")\n",
    "            #print(new)\n",
    "        else: #el nombre de archivo sí tiene _\n",
    "            v = int(raw.split('_')[1]) + 1 #busco numero e incremento\n",
    "            new = raw.split('_')[0]+'_'+str(v)+ext\n",
    "            #print(\"2\")\n",
    "            #print(new)\n",
    "        nombreArchivo = os.path.join(path, new)\n",
    "        \"\"\"\n",
    "    with open(nombreArchivo, 'wb') as f:\n",
    "        pickle.dump(datos, f)\n",
    "        print(\"Datos guardados en %s\" %nombreArchivo)\n",
    "        f.close()\n",
    "    return nombreArchivo"
   ]
  },
  {
   "cell_type": "code",
   "execution_count": 25,
   "id": "3828dcea",
   "metadata": {
    "id": "3828dcea"
   },
   "outputs": [
    {
     "name": "stdout",
     "output_type": "stream",
     "text": [
      "adquiriendo...\n",
      "SYNCHRONIZING COMMUNICATION\n",
      "El archivo ./mediciones/de201023_ok_1.p ya existe. Renombrando...\n"
     ]
    },
    {
     "ename": "ValueError",
     "evalue": "invalid literal for int() with base 10: 'ok'",
     "output_type": "error",
     "traceback": [
      "\u001b[1;31m---------------------------------------------------------------------------\u001b[0m",
      "\u001b[1;31mValueError\u001b[0m                                Traceback (most recent call last)",
      "\u001b[1;32m~\\AppData\\Local\\Temp\\ipykernel_8856\\84821372.py\u001b[0m in \u001b[0;36m<module>\u001b[1;34m\u001b[0m\n\u001b[0;32m     19\u001b[0m \u001b[1;32mif\u001b[0m \u001b[0mnsensores\u001b[0m \u001b[1;33m>=\u001b[0m \u001b[1;36m4\u001b[0m \u001b[1;33m:\u001b[0m\u001b[1;33m\u001b[0m\u001b[1;33m\u001b[0m\u001b[0m\n\u001b[0;32m     20\u001b[0m     \u001b[0msamples_sensor3\u001b[0m \u001b[1;33m=\u001b[0m \u001b[0msamples\u001b[0m\u001b[1;33m[\u001b[0m\u001b[1;34m'sensor3'\u001b[0m\u001b[1;33m]\u001b[0m\u001b[1;33m\u001b[0m\u001b[1;33m\u001b[0m\u001b[0m\n\u001b[1;32m---> 21\u001b[1;33m \u001b[0mnombreArchivo\u001b[0m \u001b[1;33m=\u001b[0m \u001b[0mguardar_datos\u001b[0m\u001b[1;33m(\u001b[0m\u001b[0mnombreArchivo\u001b[0m\u001b[1;33m,\u001b[0m \u001b[0msamples\u001b[0m\u001b[1;33m)\u001b[0m\u001b[1;33m\u001b[0m\u001b[1;33m\u001b[0m\u001b[0m\n\u001b[0m\u001b[0;32m     22\u001b[0m \u001b[1;33m\u001b[0m\u001b[0m\n\u001b[0;32m     23\u001b[0m \u001b[1;31m# grafico de muestras completas\u001b[0m\u001b[1;33m\u001b[0m\u001b[1;33m\u001b[0m\u001b[0m\n",
      "\u001b[1;32m~\\AppData\\Local\\Temp\\ipykernel_8856\\3311181378.py\u001b[0m in \u001b[0;36mguardar_datos\u001b[1;34m(nombreArchivo, datos)\u001b[0m\n\u001b[0;32m     95\u001b[0m             \u001b[1;31m#print(new)\u001b[0m\u001b[1;33m\u001b[0m\u001b[1;33m\u001b[0m\u001b[0m\n\u001b[0;32m     96\u001b[0m         \u001b[1;32melse\u001b[0m\u001b[1;33m:\u001b[0m \u001b[1;31m#el nombre de archivo sí tiene _\u001b[0m\u001b[1;33m\u001b[0m\u001b[1;33m\u001b[0m\u001b[0m\n\u001b[1;32m---> 97\u001b[1;33m             \u001b[0mv\u001b[0m \u001b[1;33m=\u001b[0m \u001b[0mint\u001b[0m\u001b[1;33m(\u001b[0m\u001b[0mraw\u001b[0m\u001b[1;33m.\u001b[0m\u001b[0msplit\u001b[0m\u001b[1;33m(\u001b[0m\u001b[1;34m'_'\u001b[0m\u001b[1;33m)\u001b[0m\u001b[1;33m[\u001b[0m\u001b[1;36m1\u001b[0m\u001b[1;33m]\u001b[0m\u001b[1;33m)\u001b[0m \u001b[1;33m+\u001b[0m \u001b[1;36m1\u001b[0m \u001b[1;31m#busco numero e incremento\u001b[0m\u001b[1;33m\u001b[0m\u001b[1;33m\u001b[0m\u001b[0m\n\u001b[0m\u001b[0;32m     98\u001b[0m             \u001b[0mnew\u001b[0m \u001b[1;33m=\u001b[0m \u001b[0mraw\u001b[0m\u001b[1;33m.\u001b[0m\u001b[0msplit\u001b[0m\u001b[1;33m(\u001b[0m\u001b[1;34m'_'\u001b[0m\u001b[1;33m)\u001b[0m\u001b[1;33m[\u001b[0m\u001b[1;36m0\u001b[0m\u001b[1;33m]\u001b[0m\u001b[1;33m+\u001b[0m\u001b[1;34m'_'\u001b[0m\u001b[1;33m+\u001b[0m\u001b[0mstr\u001b[0m\u001b[1;33m(\u001b[0m\u001b[0mv\u001b[0m\u001b[1;33m)\u001b[0m\u001b[1;33m+\u001b[0m\u001b[0mext\u001b[0m\u001b[1;33m\u001b[0m\u001b[1;33m\u001b[0m\u001b[0m\n\u001b[0;32m     99\u001b[0m             \u001b[1;31m#print(\"2\")\u001b[0m\u001b[1;33m\u001b[0m\u001b[1;33m\u001b[0m\u001b[0m\n",
      "\u001b[1;31mValueError\u001b[0m: invalid literal for int() with base 10: 'ok'"
     ]
    }
   ],
   "source": [
    "# Abrimos la conexión con Arduino, adquiero, y guardo\n",
    "# Hack cortesía de https://www.oreilly.com/library/view/python-cookbook/0596001673/ch17s02.html\n",
    "try: arduino\n",
    "except NameError:\n",
    "    arduino = serial.Serial(COM_ARDUINO_UNO, baudrate=baudrate_arduino, timeout=1.0)\n",
    "if not arduino.is_open: arduino.open()\n",
    "arduino.setDTR(False)\n",
    "arduino.flushInput()\n",
    "arduino.setDTR(True)\n",
    "print('adquiriendo...')\n",
    "samples = leer_sensor(arduino,cantidad_samples)\n",
    "arduino.close()\n",
    "\n",
    "samples_sensor0 = samples['sensor0']\n",
    "if nsensores >= 2 :\n",
    "    samples_sensor1 = samples['sensor1']\n",
    "if nsensores >= 3 :\n",
    "    samples_sensor2 = samples['sensor2']\n",
    "if nsensores >= 4 :\n",
    "    samples_sensor3 = samples['sensor3']\n",
    "nombreArchivo = guardar_datos(nombreArchivo, samples)\n",
    "\n",
    "# grafico de muestras completas\n",
    "time = np.arange(0,cantidad_samples/SampleFreq,1/SampleFreq)\n",
    "fig = plt.figure()\n",
    "plt.plot(time,samples_sensor0, 'b', label=\"Sensor A\")\n",
    "if nsensores >= 2 :\n",
    "    plt.plot(time,samples_sensor1, 'r', label=\"Sensor B\")\n",
    "if nsensores >= 3 :\n",
    "    plt.plot(time,samples_sensor2, 'k', label=\"Sensor 3\")\n",
    "if nsensores >= 4 :\n",
    "    plt.plot(time,samples_sensor3, 'g', label=\"Sensor 4\")\n",
    "\n",
    "plt.xlabel(\"Tiempo [ms]\")\n",
    "plt.ylabel(\"Señal (cuentas)\")\n",
    "plt.title(\"PULSOS ADQUIRIDOS\")\n",
    "plt.legend()\n",
    "#plt.xlim([1000,30000])\n",
    "plt.grid()\n",
    "plt.show()\n"
   ]
  },
  {
   "cell_type": "code",
   "execution_count": null,
   "id": "ff2f7dfe",
   "metadata": {},
   "outputs": [],
   "source": []
  }
 ],
 "metadata": {
  "colab": {
   "provenance": []
  },
  "kernelspec": {
   "display_name": "Python 3 (ipykernel)",
   "language": "python",
   "name": "python3"
  },
  "language_info": {
   "codemirror_mode": {
    "name": "ipython",
    "version": 3
   },
   "file_extension": ".py",
   "mimetype": "text/x-python",
   "name": "python",
   "nbconvert_exporter": "python",
   "pygments_lexer": "ipython3",
   "version": "3.9.13"
  }
 },
 "nbformat": 4,
 "nbformat_minor": 5
}
